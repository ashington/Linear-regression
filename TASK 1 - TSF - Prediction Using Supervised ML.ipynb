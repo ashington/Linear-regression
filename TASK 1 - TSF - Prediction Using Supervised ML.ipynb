{
 "cells": [
  {
   "cell_type": "markdown",
   "metadata": {},
   "source": [
    "# Problem Statement:\n",
    "\n",
    "### Predict the percentage of a student based on the number of study hours.\n",
    "\n",
    "### The dataset contains 2 variables - Hours and Scores\n",
    "\n",
    "### What will be the predicted score if a student studies for 9.25 hrs/day?"
   ]
  },
  {
   "cell_type": "code",
   "execution_count": 1,
   "metadata": {},
   "outputs": [
    {
     "data": {
      "text/html": [
       "<div>\n",
       "<style scoped>\n",
       "    .dataframe tbody tr th:only-of-type {\n",
       "        vertical-align: middle;\n",
       "    }\n",
       "\n",
       "    .dataframe tbody tr th {\n",
       "        vertical-align: top;\n",
       "    }\n",
       "\n",
       "    .dataframe thead th {\n",
       "        text-align: right;\n",
       "    }\n",
       "</style>\n",
       "<table border=\"1\" class=\"dataframe\">\n",
       "  <thead>\n",
       "    <tr style=\"text-align: right;\">\n",
       "      <th></th>\n",
       "      <th>Hours</th>\n",
       "      <th>Scores</th>\n",
       "    </tr>\n",
       "  </thead>\n",
       "  <tbody>\n",
       "    <tr>\n",
       "      <th>0</th>\n",
       "      <td>2.5</td>\n",
       "      <td>21</td>\n",
       "    </tr>\n",
       "    <tr>\n",
       "      <th>1</th>\n",
       "      <td>5.1</td>\n",
       "      <td>47</td>\n",
       "    </tr>\n",
       "    <tr>\n",
       "      <th>2</th>\n",
       "      <td>3.2</td>\n",
       "      <td>27</td>\n",
       "    </tr>\n",
       "    <tr>\n",
       "      <th>3</th>\n",
       "      <td>8.5</td>\n",
       "      <td>75</td>\n",
       "    </tr>\n",
       "    <tr>\n",
       "      <th>4</th>\n",
       "      <td>3.5</td>\n",
       "      <td>30</td>\n",
       "    </tr>\n",
       "  </tbody>\n",
       "</table>\n",
       "</div>"
      ],
      "text/plain": [
       "   Hours  Scores\n",
       "0    2.5      21\n",
       "1    5.1      47\n",
       "2    3.2      27\n",
       "3    8.5      75\n",
       "4    3.5      30"
      ]
     },
     "execution_count": 1,
     "metadata": {},
     "output_type": "execute_result"
    }
   ],
   "source": [
    "# Importing the pandas library with the alias as \"pd\" so as to perform various\n",
    "# functions like loading the data into DataFrame\n",
    "import pandas as pd\n",
    "\n",
    "# Reading the dataset into the variable so as to start with the EDA\n",
    "df = pd. read_csv(r\"https://raw.githubusercontent.com/AdiPersonalWorks/Random/master/student_scores%20-%20student_scores.csv\")\n",
    "\n",
    "# Displaying the first 5 rows of the DataFrame\n",
    "df.head()"
   ]
  },
  {
   "cell_type": "code",
   "execution_count": 2,
   "metadata": {},
   "outputs": [
    {
     "name": "stdout",
     "output_type": "stream",
     "text": [
      "           Hours     Scores\n",
      "count  25.000000  25.000000\n",
      "mean    5.012000  51.480000\n",
      "std     2.525094  25.286887\n",
      "min     1.100000  17.000000\n",
      "25%     2.700000  30.000000\n",
      "50%     4.800000  47.000000\n",
      "75%     7.400000  75.000000\n",
      "max     9.200000  95.000000\n",
      "Hours     0\n",
      "Scores    0\n",
      "dtype: int64\n"
     ]
    }
   ],
   "source": [
    "# Using the describe() function to see basic statistical details about our\n",
    "# dataset like percentile, mean, standard deviation, maximum, minimum etc\n",
    "# This will help us analyze the data better and get a better understanding\n",
    "print(df.describe())\n",
    "\n",
    "# Starting the EDA with the task to see if there are any missing or null values\n",
    "# in our dataset\n",
    "print(df.isna().sum())\n"
   ]
  },
  {
   "cell_type": "code",
   "execution_count": 3,
   "metadata": {},
   "outputs": [],
   "source": [
    "# We will now check if there any outliers present in our dataset\n",
    "\n",
    "# An outlier is a data-item/ data point that deviates significantly from\n",
    "# the rest of the data points.\n",
    "# It can be of 2 types:-\n",
    "# Univariate --> It is found when we look at distribution of a single variable\n",
    "# Multivariate --> It is found when in an n-dimensional space so we have to\n",
    "#                  look at distributions in multi-dimensions\n",
    "\n",
    "# We can either visualization - \n",
    "# Box Plot --> It captures the summary of the data effectively and also \n",
    "# provides insight about 25h, 50th and 75th percentile, median \n",
    "# as well as outliers.\n",
    "# Scatter Plot --> It is used when we want to determine the relationship\n",
    "# between the 2 variables and can be used to detect any outlier(s)\n",
    "\n",
    "# We can also use Inter-Quartile Range which is the difference between\n",
    "# Quarter 3 and Quarter 1. In this method, we will define the base values\n",
    "# wherein if the value is below or over, it is considered as an outlier.\n",
    "# eg --> Q3 + 1.5*IQR > value > Q1 - 1.5IQR\n",
    "\n",
    "# We can also use the Z score method. It tells us how far away a data point is\n",
    "# from the mean. We can setup a threshold value, we can use it to define the\n",
    "# outliers. Genrally it is chosen as 3.0 as 99.7% of the values lie between\n",
    "# +3.0 and -3.0"
   ]
  },
  {
   "cell_type": "code",
   "execution_count": 4,
   "metadata": {},
   "outputs": [
    {
     "data": {
      "text/plain": [
       "<AxesSubplot:>"
      ]
     },
     "execution_count": 4,
     "metadata": {},
     "output_type": "execute_result"
    },
    {
     "data": {
      "image/png": "[encoded data removed]",
      "text/plain": [
       "<Figure size 432x288 with 1 Axes>"
      ]
     },
     "metadata": {
      "needs_background": "light"
     },
     "output_type": "display_data"
    }
   ],
   "source": [
    "# Here I will use boxplot to see if there are any outliers present\n",
    "\n",
    "# Importing seaborn library with alias as sns to plot the Box Plot\n",
    "import seaborn as sns\n",
    "\n",
    "# Plotting the Box Plot for Hours Column\n",
    "sns.boxplot(data=df['Hours'])"
   ]
  },
  {
   "cell_type": "code",
   "execution_count": 5,
   "metadata": {},
   "outputs": [
    {
     "data": {
      "text/plain": [
       "<AxesSubplot:>"
      ]
     },
     "execution_count": 5,
     "metadata": {},
     "output_type": "execute_result"
    },
    {
     "data": {
      "image/png": "[encoded data removed]",
      "text/plain": [
       "<Figure size 432x288 with 1 Axes>"
      ]
     },
     "metadata": {
      "needs_background": "light"
     },
     "output_type": "display_data"
    }
   ],
   "source": [
    "# Plotting the Box Plot for Scores Column\n",
    "sns.boxplot(data =df['Scores'])"
   ]
  },
  {
   "cell_type": "code",
   "execution_count": 6,
   "metadata": {},
   "outputs": [
    {
     "data": {
      "image/png": "[encoded data removed]",
      "text/plain": [
       "<Figure size 432x288 with 1 Axes>"
      ]
     },
     "metadata": {
      "needs_background": "light"
     },
     "output_type": "display_data"
    }
   ],
   "source": [
    "# As clearly seen above there were no outliers present.\n",
    "# We can use scatter plot now to see if there is any linear relationship among \n",
    "# our two variables\n",
    "\n",
    "# Importing the matplotlib.pylot library with alias as plt \n",
    "import matplotlib.pyplot as plt\n",
    "\n",
    "# Plotting the Scatter Plot\n",
    "plt.scatter(df['Hours'],df['Scores'])\n",
    "\n",
    "# Adding label to the axes of our Scatter plot\n",
    "plt.xlabel(\"Hours\")          # Adding label to X-Axis\n",
    "plt.ylabel(\"Scores\")         # Adding label to Y-Axis\n",
    "plt.title(\"Hours vs Scores\") # Adding Title to our Plot\n",
    "\n",
    "# Displaying the active figure object\n",
    "plt.show()"
   ]
  },
  {
   "cell_type": "code",
   "execution_count": 7,
   "metadata": {},
   "outputs": [],
   "source": [
    "# As clearly seen above, with the increasing value of \"Hours\", the \"Scores\"\n",
    "# also increased linearly so there is a positive linear relationship among the \n",
    "# 2 variables - Scores and Hours\n",
    "# Now we can start with our Supervised Machine Learning Linear Regression Model\n",
    "# so as to make our Prediction."
   ]
  },
  {
   "cell_type": "code",
   "execution_count": 8,
   "metadata": {},
   "outputs": [],
   "source": [
    "# Here my Dependent variable is Hours.\n",
    "X = df[['Hours']]\n",
    "# And my Independent variable is Scores\n",
    "Y = df[['Scores']]"
   ]
  },
  {
   "cell_type": "code",
   "execution_count": 9,
   "metadata": {},
   "outputs": [],
   "source": [
    "# When comparing machine learning algorithms, it is desirable that they are fit\n",
    "# and evaluated on the same subsets of the dataset.\n",
    "# Importing train_test_split class so as to randomly divide our dataset between\n",
    "# test and training sets\n",
    "from sklearn.model_selection import train_test_split\n",
    "\n",
    "# Importing linear Regression ML class\n",
    "from sklearn.linear_model import LinearRegression"
   ]
  },
  {
   "cell_type": "code",
   "execution_count": 10,
   "metadata": {},
   "outputs": [],
   "source": [
    "# Dividing the dataset\n",
    "# test_size parameter --> It is used to define what %age of the data will \n",
    "#                         be used for testing   \n",
    "# random_state parameter --> When comparing machine learning algorithms, it is\n",
    "#                            desirable (perhaps required) that they are fit and\n",
    "#                            evaluated on the same subsets of the dataset.\n",
    "X_train, X_test, Y_train, Y_test = train_test_split(X,Y, test_size = 0.2, random_state = 0)"
   ]
  },
  {
   "cell_type": "code",
   "execution_count": 11,
   "metadata": {},
   "outputs": [
    {
     "data": {
      "text/plain": [
       "LinearRegression()"
      ]
     },
     "execution_count": 11,
     "metadata": {},
     "output_type": "execute_result"
    }
   ],
   "source": [
    "# Creating an object of our Linear Regression ML class\n",
    "model = LinearRegression()\n",
    "\n",
    "# Fitting the ML object with the training values\n",
    "model.fit(X_train,Y_train)"
   ]
  },
  {
   "cell_type": "code",
   "execution_count": 12,
   "metadata": {},
   "outputs": [
    {
     "data": {
      "image/png": "[encoded data removed]",
      "text/plain": [
       "<Figure size 432x288 with 1 Axes>"
      ]
     },
     "metadata": {
      "needs_background": "light"
     },
     "output_type": "display_data"
    }
   ],
   "source": [
    "# Plotting the regression line ( y = mx+C)\n",
    "line = model.coef_*X+model.intercept_\n",
    "\n",
    "# Plotting for the training data\n",
    "plt.scatter(X, Y)\n",
    "plt.plot(X, line);\n",
    "plt.show()"
   ]
  },
  {
   "cell_type": "code",
   "execution_count": 13,
   "metadata": {},
   "outputs": [],
   "source": [
    "# Prediction on test_dataset\n",
    "y_pred = model.predict(X_test)"
   ]
  },
  {
   "cell_type": "code",
   "execution_count": 14,
   "metadata": {},
   "outputs": [
    {
     "name": "stdout",
     "output_type": "stream",
     "text": [
      "Coefficient of Detemination is: 0.9515510725211552\n",
      "Mean Absolute Error: 4.183859899002975\n",
      "Slope is: [[9.91065648]]\n",
      "Intercept is: [2.01816004]\n"
     ]
    }
   ],
   "source": [
    "# Here we will now see some importanmt metrics on basis of \n",
    "# which we see whether the model is good or not such as R-square, MAE\n",
    "# as well as also see the intercept and slope of our Model\n",
    "\n",
    "# Calculating the R-squared value of our Model and then printing it\n",
    "r_squared = model.score(X_train,Y_train)\n",
    "print('Coefficient of Detemination is:',r_squared)\n",
    "\n",
    "# Here we will see about Mean Absolute Error via the metrics class of sklearn\n",
    "from sklearn import metrics  \n",
    "print('Mean Absolute Error:', metrics.mean_absolute_error(Y_test, y_pred))\n",
    "\n",
    "# Printing the Slope or 'm' or 'Theta0' used in equation of the Linear Regression model\n",
    "print(\"Slope is:\",model.coef_)\n",
    "\n",
    "# Printing the Intercept or 'c' or 'Theta1' used in equation of the Linear Regression model\n",
    "print(\"Intercept is:\",model.intercept_)"
   ]
  },
  {
   "cell_type": "code",
   "execution_count": 15,
   "metadata": {},
   "outputs": [],
   "source": [
    "# Creating a DataFrame to store both the Actual \n",
    "# and Predicted Values for Comparison\n",
    "pred = pd.DataFrame(Y_test)                #Storing Actual values\n",
    "pred['Predicted Scores'] = y_pred          #Storing Predicted Values\n",
    "pred.reset_index(drop=True, inplace=True)  #Resetting the index of the DataFrame"
   ]
  },
  {
   "cell_type": "code",
   "execution_count": 16,
   "metadata": {},
   "outputs": [
    {
     "data": {
      "text/html": [
       "<div>\n",
       "<style scoped>\n",
       "    .dataframe tbody tr th:only-of-type {\n",
       "        vertical-align: middle;\n",
       "    }\n",
       "\n",
       "    .dataframe tbody tr th {\n",
       "        vertical-align: top;\n",
       "    }\n",
       "\n",
       "    .dataframe thead th {\n",
       "        text-align: right;\n",
       "    }\n",
       "</style>\n",
       "<table border=\"1\" class=\"dataframe\">\n",
       "  <thead>\n",
       "    <tr style=\"text-align: right;\">\n",
       "      <th></th>\n",
       "      <th>Scores</th>\n",
       "      <th>Predicted Scores</th>\n",
       "    </tr>\n",
       "  </thead>\n",
       "  <tbody>\n",
       "    <tr>\n",
       "      <th>0</th>\n",
       "      <td>20</td>\n",
       "      <td>16.884145</td>\n",
       "    </tr>\n",
       "    <tr>\n",
       "      <th>1</th>\n",
       "      <td>27</td>\n",
       "      <td>33.732261</td>\n",
       "    </tr>\n",
       "    <tr>\n",
       "      <th>2</th>\n",
       "      <td>69</td>\n",
       "      <td>75.357018</td>\n",
       "    </tr>\n",
       "    <tr>\n",
       "      <th>3</th>\n",
       "      <td>30</td>\n",
       "      <td>26.794801</td>\n",
       "    </tr>\n",
       "    <tr>\n",
       "      <th>4</th>\n",
       "      <td>62</td>\n",
       "      <td>60.491033</td>\n",
       "    </tr>\n",
       "  </tbody>\n",
       "</table>\n",
       "</div>"
      ],
      "text/plain": [
       "   Scores  Predicted Scores\n",
       "0      20         16.884145\n",
       "1      27         33.732261\n",
       "2      69         75.357018\n",
       "3      30         26.794801\n",
       "4      62         60.491033"
      ]
     },
     "execution_count": 16,
     "metadata": {},
     "output_type": "execute_result"
    }
   ],
   "source": [
    "pred"
   ]
  },
  {
   "cell_type": "markdown",
   "metadata": {},
   "source": [
    "# What will be the predicted score if a student studies for 9.25 hrs/day?"
   ]
  },
  {
   "cell_type": "code",
   "execution_count": 17,
   "metadata": {},
   "outputs": [
    {
     "name": "stdout",
     "output_type": "stream",
     "text": [
      "The predicted score if a student studies for 9.25 hrs/day is : 93.69173248737538\n"
     ]
    }
   ],
   "source": [
    "print(\"The predicted score if a student studies for 9.25 hrs/day is : {}\".format(model.predict([[9.25]])[0][0]))"
   ]
  }
 ],
 "metadata": {
  "kernelspec": {
   "display_name": "Python 3",
   "language": "python",
   "name": "python3"
  },
  "language_info": {
   "codemirror_mode": {
    "name": "ipython",
    "version": 3
   },
   "file_extension": ".py",
   "mimetype": "text/x-python",
   "name": "python",
   "nbconvert_exporter": "python",
   "pygments_lexer": "ipython3",
   "version": "3.8.5"
  }
 },
 "nbformat": 4,
 "nbformat_minor": 4
}
